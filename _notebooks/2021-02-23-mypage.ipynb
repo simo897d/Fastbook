
key = os.environ.get('AZURE_SEARCH_KEY', '60e43d3027704bf4b590419782a950fe')