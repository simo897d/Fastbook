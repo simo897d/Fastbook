#hide
# !pip install -Uqq fastbook
import fastbook
fastbook.setup_book()
key = os.environ.get('AZURE_SEARCH_KEY', '60e43d3027704bf4b590419782a950fe')